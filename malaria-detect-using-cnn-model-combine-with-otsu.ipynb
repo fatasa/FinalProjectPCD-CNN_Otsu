{
 "cells": [
  {
   "cell_type": "code",
   "execution_count": 1,
   "id": "18b4a3f4",
   "metadata": {
    "_cell_guid": "b1076dfc-b9ad-4769-8c92-a6c4dae69d19",
    "_uuid": "8f2839f25d086af736a60e9eeb907d3b93b6e0e5",
    "execution": {
     "iopub.execute_input": "2022-09-30T23:32:00.165628Z",
     "iopub.status.busy": "2022-09-30T23:32:00.165235Z",
     "iopub.status.idle": "2022-09-30T23:32:08.532483Z",
     "shell.execute_reply": "2022-09-30T23:32:08.531493Z"
    },
    "papermill": {
     "duration": 8.393102,
     "end_time": "2022-09-30T23:32:08.535153",
     "exception": false,
     "start_time": "2022-09-30T23:32:00.142051",
     "status": "completed"
    },
    "tags": []
   },
   "outputs": [],
   "source": [
    "import numpy as np # linear algebra\n",
    "import pandas as pd # data processing, CSV file I/O (e.g. pd.read_csv)\n",
    "import os\n",
    "import glob\n",
    "import cv2\n",
    "import seaborn as sns\n",
    "from skimage.filters import sobel\n",
    "import matplotlib.pyplot as plt\n",
    "\n",
    "import tensorflow as tf\n",
    "from tensorflow.keras import layers,models\n",
    "from keras.models import model_from_json\n",
    "from keras.models import load_model\n",
    "\n",
    "# This Python 3 environment comes with many helpful analytics libraries installed\n",
    "# It is defined by the kaggle/python Docker image: https://github.com/kaggle/docker-python\n",
    "# For example, here's several helpful packages to load\n",
    "\n",
    "# import numpy as np # linear algebra\n",
    "# import pandas as pd # data processing, CSV file I/O (e.g. pd.read_csv)\n",
    "\n",
    "# Input data files are available in the read-only \"../input/\" directory\n",
    "# For example, running this (by clicking run or pressing Shift+Enter) will list all files under the input directory\n",
    "\n",
    "# import os\n",
    "# for dirname, _, filenames in os.walk('/kaggle/input'):\n",
    "#     for filename in filenames:\n",
    "#         print(os.path.join(dirname, filename))\n",
    "\n",
    "# You can write up to 20GB to the current directory (/kaggle/working/) that gets preserved as output when you create a version using \"Save & Run All\" \n",
    "# You can also write temporary files to /kaggle/temp/, but they won't be saved outside of the current session"
   ]
  },
  {
   "cell_type": "code",
   "execution_count": 2,
   "id": "3b6a2bf8",
   "metadata": {
    "execution": {
     "iopub.execute_input": "2022-09-30T23:32:08.575757Z",
     "iopub.status.busy": "2022-09-30T23:32:08.574970Z",
     "iopub.status.idle": "2022-09-30T23:32:08.578563Z",
     "shell.execute_reply": "2022-09-30T23:32:08.577941Z"
    },
    "papermill": {
     "duration": 0.025995,
     "end_time": "2022-09-30T23:32:08.580605",
     "exception": false,
     "start_time": "2022-09-30T23:32:08.554610",
     "status": "completed"
    },
    "tags": []
   },
   "outputs": [],
   "source": [
    "#resizing image\n",
    "size = 128"
   ]
  },
  {
   "cell_type": "code",
   "execution_count": 3,
   "id": "0ca0aded",
   "metadata": {
    "execution": {
     "iopub.execute_input": "2022-09-30T23:32:08.620364Z",
     "iopub.status.busy": "2022-09-30T23:32:08.619856Z",
     "iopub.status.idle": "2022-09-30T23:32:10.991024Z",
     "shell.execute_reply": "2022-09-30T23:32:10.990077Z"
    },
    "papermill": {
     "duration": 2.394033,
     "end_time": "2022-09-30T23:32:10.993557",
     "exception": false,
     "start_time": "2022-09-30T23:32:08.599524",
     "status": "completed"
    },
    "tags": []
   },
   "outputs": [],
   "source": [
    "#Capture images and labels into array\n",
    "#Start by creating empty lists\n",
    "\n",
    "train_images = []\n",
    "train_labels = []\n",
    "\n",
    "# for directory_path in glob.glob(\"/kaggle/input/malaria-detection-dataset/Dataset/Train/*\"):\n",
    "#     label = directory_path.split(\"/\")[-1]\n",
    "#     #print(label)\n",
    "#     for img_path in glob.glob(os.path.join(directory_path,\"*.jpg\")):\n",
    "#         print(img_path)\n",
    "\n",
    "\n",
    "for directory_path, _, filenames in os.walk('/kaggle/input/malaria-detection-dataset/Dataset/Train/'):\n",
    "    label = directory_path.split(\"/\")[-1]\n",
    "    #print(label)\n",
    "    for filename in filenames:\n",
    "        img_path = os.path.join(directory_path, filename)\n",
    "        #print(img_path)\n",
    "        \n",
    "        img = cv2.imread(img_path,cv2.IMREAD_COLOR)\n",
    "        img = cv2.resize(img,(size,size))\n",
    "        #img = cv2.cvtColor(img,cv2.COLOR_RGB2BGR)\n",
    "        train_images.append(img)\n",
    "        train_labels.append(label)\n",
    "\n",
    "train_images = np.array(train_images)\n",
    "train_labels = np.array(train_labels)"
   ]
  },
  {
   "cell_type": "code",
   "execution_count": 4,
   "id": "ef9ffc2e",
   "metadata": {
    "execution": {
     "iopub.execute_input": "2022-09-30T23:32:11.033604Z",
     "iopub.status.busy": "2022-09-30T23:32:11.033320Z",
     "iopub.status.idle": "2022-09-30T23:32:11.728606Z",
     "shell.execute_reply": "2022-09-30T23:32:11.727837Z"
    },
    "papermill": {
     "duration": 0.717884,
     "end_time": "2022-09-30T23:32:11.731225",
     "exception": false,
     "start_time": "2022-09-30T23:32:11.013341",
     "status": "completed"
    },
    "tags": []
   },
   "outputs": [],
   "source": [
    "#Do the same for test images\n",
    "\n",
    "test_images = []\n",
    "test_labels = []\n",
    "\n",
    "for directory_path, _, filenames in os.walk('/kaggle/input/malaria-detection-dataset/Dataset/Test/'):\n",
    "    label = directory_path.split(\"/\")[-1]\n",
    "    #print(label)\n",
    "    for filename in filenames:\n",
    "        img_path = os.path.join(directory_path, filename)\n",
    "        #print(img_path)\n",
    "        \n",
    "        img = cv2.imread(img_path,cv2.IMREAD_COLOR)\n",
    "        img = cv2.resize(img,(size,size))\n",
    "        #img = cv2.cvtColor(img,cv2.COLOR_RGB2BGR)\n",
    "        test_images.append(img)\n",
    "        test_labels.append(label)\n",
    "\n",
    "test_images = np.array(test_images)\n",
    "test_labels = np.array(test_labels)"
   ]
  },
  {
   "cell_type": "code",
   "execution_count": 5,
   "id": "436627a0",
   "metadata": {
    "execution": {
     "iopub.execute_input": "2022-09-30T23:32:11.772041Z",
     "iopub.status.busy": "2022-09-30T23:32:11.770622Z",
     "iopub.status.idle": "2022-09-30T23:32:11.922423Z",
     "shell.execute_reply": "2022-09-30T23:32:11.921634Z"
    },
    "papermill": {
     "duration": 0.174538,
     "end_time": "2022-09-30T23:32:11.924757",
     "exception": false,
     "start_time": "2022-09-30T23:32:11.750219",
     "status": "completed"
    },
    "tags": []
   },
   "outputs": [],
   "source": [
    "#Encode labels from text (folder_names) to integers\n",
    "from sklearn import preprocessing\n",
    "le = preprocessing.LabelEncoder()\n",
    "le.fit(test_labels)\n",
    "test_labels_encoded = le.transform(test_labels)\n",
    "le.fit(train_labels)\n",
    "train_labels_encoded = le.transform(train_labels)"
   ]
  },
  {
   "cell_type": "code",
   "execution_count": 6,
   "id": "e439e17c",
   "metadata": {
    "execution": {
     "iopub.execute_input": "2022-09-30T23:32:11.968437Z",
     "iopub.status.busy": "2022-09-30T23:32:11.968137Z",
     "iopub.status.idle": "2022-09-30T23:32:12.068904Z",
     "shell.execute_reply": "2022-09-30T23:32:12.067863Z"
    },
    "papermill": {
     "duration": 0.127943,
     "end_time": "2022-09-30T23:32:12.071549",
     "exception": false,
     "start_time": "2022-09-30T23:32:11.943606",
     "status": "completed"
    },
    "tags": []
   },
   "outputs": [],
   "source": [
    "#Split data into test and train datasets\n",
    "\n",
    "x_train,y_train,x_test,y_test = train_images,train_labels_encoded,test_images,test_labels_encoded\n",
    "\n",
    "#Normalize pixel value between 0 and 1\n",
    "\n",
    "x_train,x_test = x_train/255.0, x_test/255.0"
   ]
  },
  {
   "cell_type": "code",
   "execution_count": 7,
   "id": "722a9975",
   "metadata": {
    "execution": {
     "iopub.execute_input": "2022-09-30T23:32:12.112653Z",
     "iopub.status.busy": "2022-09-30T23:32:12.112039Z",
     "iopub.status.idle": "2022-09-30T23:32:12.309741Z",
     "shell.execute_reply": "2022-09-30T23:32:12.308867Z"
    },
    "papermill": {
     "duration": 0.221279,
     "end_time": "2022-09-30T23:32:12.312436",
     "exception": false,
     "start_time": "2022-09-30T23:32:12.091157",
     "status": "completed"
    },
    "tags": []
   },
   "outputs": [
    {
     "name": "stderr",
     "output_type": "stream",
     "text": [
      "2022-09-30 23:32:12.173205: I tensorflow/core/common_runtime/process_util.cc:146] Creating new thread pool with default inter op setting: 2. Tune using inter_op_parallelism_threads for best performance.\n"
     ]
    }
   ],
   "source": [
    "#CNN model building\n",
    "\n",
    "cnn = models.Sequential([\n",
    "    #1st layer or Input layer\n",
    "    \n",
    "    layers.Conv2D(filters = 128, kernel_size = (3,3), activation = 'relu', input_shape = (128,128,3)),\n",
    "    #Pooling\n",
    "    layers.MaxPool2D((2,2)),\n",
    "   \n",
    "    \n",
    "    #2nd layer\n",
    "    \n",
    "    layers.Conv2D(filters = 32, kernel_size = (3,3), activation = 'relu'),\n",
    "    layers.MaxPool2D((2,2)),\n",
    "    \n",
    "    \n",
    "    \n",
    "    #3rd layer\n",
    "    \n",
    "    layers.Conv2D(filters = 64, kernel_size = (3,3), activation = 'relu'),\n",
    "    layers.MaxPool2D((2,2)),\n",
    "    \n",
    "    \n",
    "    #4th layer\n",
    "    \n",
    "    layers.Conv2D(filters = 64, kernel_size = (3,3), activation = 'relu'),\n",
    "    layers.MaxPool2D((2,2)),\n",
    "    \n",
    "    \n",
    "    #5th layer\n",
    "    \n",
    "    layers.Conv2D(filters = 128, kernel_size = (3,3), activation = 'relu'),\n",
    "    layers.MaxPool2D((2,2)),\n",
    "    \n",
    "    \n",
    "    \n",
    "    #Flattening\n",
    "    \n",
    "    layers.Flatten(),\n",
    "    \n",
    "    \n",
    "    #Last connection\n",
    "    \n",
    "    layers.Dense(512, activation = 'relu'),\n",
    "\n",
    "    \n",
    "    #For Binary Classification\n",
    "    \n",
    "    layers.Dense(1, activation = 'sigmoid')\n",
    "])"
   ]
  },
  {
   "cell_type": "code",
   "execution_count": 8,
   "id": "1feb2a11",
   "metadata": {
    "execution": {
     "iopub.execute_input": "2022-09-30T23:32:12.352481Z",
     "iopub.status.busy": "2022-09-30T23:32:12.352183Z",
     "iopub.status.idle": "2022-09-30T23:32:12.367154Z",
     "shell.execute_reply": "2022-09-30T23:32:12.366215Z"
    },
    "papermill": {
     "duration": 0.037527,
     "end_time": "2022-09-30T23:32:12.369563",
     "exception": false,
     "start_time": "2022-09-30T23:32:12.332036",
     "status": "completed"
    },
    "tags": []
   },
   "outputs": [],
   "source": [
    "#compiling\n",
    "\n",
    "cnn.compile(\n",
    "    optimizer = 'adam',\n",
    "    loss = 'binary_crossentropy',\n",
    "    metrics = ['accuracy']\n",
    ")"
   ]
  },
  {
   "cell_type": "code",
   "execution_count": 9,
   "id": "3e13c30d",
   "metadata": {
    "execution": {
     "iopub.execute_input": "2022-09-30T23:32:12.412294Z",
     "iopub.status.busy": "2022-09-30T23:32:12.412003Z",
     "iopub.status.idle": "2022-09-30T23:33:52.668494Z",
     "shell.execute_reply": "2022-09-30T23:33:52.667557Z"
    },
    "papermill": {
     "duration": 100.282172,
     "end_time": "2022-09-30T23:33:52.671085",
     "exception": false,
     "start_time": "2022-09-30T23:32:12.388913",
     "status": "completed"
    },
    "tags": []
   },
   "outputs": [
    {
     "name": "stderr",
     "output_type": "stream",
     "text": [
      "2022-09-30 23:32:12.618049: I tensorflow/compiler/mlir/mlir_graph_optimization_pass.cc:185] None of the MLIR Optimization Passes are enabled (registered 2)\n"
     ]
    },
    {
     "name": "stdout",
     "output_type": "stream",
     "text": [
      "Epoch 1/13\n",
      "13/13 [==============================] - 9s 572ms/step - loss: 0.6952 - accuracy: 0.5240\n",
      "Epoch 2/13\n",
      "13/13 [==============================] - 8s 574ms/step - loss: 0.6886 - accuracy: 0.5529\n",
      "Epoch 3/13\n",
      "13/13 [==============================] - 7s 572ms/step - loss: 0.6603 - accuracy: 0.6010\n",
      "Epoch 4/13\n",
      "13/13 [==============================] - 8s 618ms/step - loss: 0.5073 - accuracy: 0.8197\n",
      "Epoch 5/13\n",
      "13/13 [==============================] - 7s 567ms/step - loss: 0.3881 - accuracy: 0.8438\n",
      "Epoch 6/13\n",
      "13/13 [==============================] - 8s 578ms/step - loss: 0.2229 - accuracy: 0.9375\n",
      "Epoch 7/13\n",
      "13/13 [==============================] - 7s 574ms/step - loss: 0.1933 - accuracy: 0.9327\n",
      "Epoch 8/13\n",
      "13/13 [==============================] - 8s 580ms/step - loss: 0.1621 - accuracy: 0.9615\n",
      "Epoch 9/13\n",
      "13/13 [==============================] - 8s 595ms/step - loss: 0.0906 - accuracy: 0.9808\n",
      "Epoch 10/13\n",
      "13/13 [==============================] - 7s 575ms/step - loss: 0.1832 - accuracy: 0.9423\n",
      "Epoch 11/13\n",
      "13/13 [==============================] - 7s 567ms/step - loss: 0.1662 - accuracy: 0.9519\n",
      "Epoch 12/13\n",
      "13/13 [==============================] - 8s 579ms/step - loss: 0.0922 - accuracy: 0.9784\n",
      "Epoch 13/13\n",
      "13/13 [==============================] - 8s 621ms/step - loss: 0.1436 - accuracy: 0.9615\n"
     ]
    }
   ],
   "source": [
    "#Fitting model\n",
    "history = cnn.fit(x_train,\n",
    "        y_train,\n",
    "        epochs = 13)"
   ]
  },
  {
   "cell_type": "code",
   "execution_count": 10,
   "id": "49c246d7",
   "metadata": {
    "execution": {
     "iopub.execute_input": "2022-09-30T23:33:52.846887Z",
     "iopub.status.busy": "2022-09-30T23:33:52.846360Z",
     "iopub.status.idle": "2022-09-30T23:33:52.857402Z",
     "shell.execute_reply": "2022-09-30T23:33:52.855841Z"
    },
    "papermill": {
     "duration": 0.101232,
     "end_time": "2022-09-30T23:33:52.859853",
     "exception": false,
     "start_time": "2022-09-30T23:33:52.758621",
     "status": "completed"
    },
    "tags": []
   },
   "outputs": [
    {
     "name": "stdout",
     "output_type": "stream",
     "text": [
      "Model: \"sequential\"\n",
      "_________________________________________________________________\n",
      "Layer (type)                 Output Shape              Param #   \n",
      "=================================================================\n",
      "conv2d (Conv2D)              (None, 126, 126, 128)     3584      \n",
      "_________________________________________________________________\n",
      "max_pooling2d (MaxPooling2D) (None, 63, 63, 128)       0         \n",
      "_________________________________________________________________\n",
      "conv2d_1 (Conv2D)            (None, 61, 61, 32)        36896     \n",
      "_________________________________________________________________\n",
      "max_pooling2d_1 (MaxPooling2 (None, 30, 30, 32)        0         \n",
      "_________________________________________________________________\n",
      "conv2d_2 (Conv2D)            (None, 28, 28, 64)        18496     \n",
      "_________________________________________________________________\n",
      "max_pooling2d_2 (MaxPooling2 (None, 14, 14, 64)        0         \n",
      "_________________________________________________________________\n",
      "conv2d_3 (Conv2D)            (None, 12, 12, 64)        36928     \n",
      "_________________________________________________________________\n",
      "max_pooling2d_3 (MaxPooling2 (None, 6, 6, 64)          0         \n",
      "_________________________________________________________________\n",
      "conv2d_4 (Conv2D)            (None, 4, 4, 128)         73856     \n",
      "_________________________________________________________________\n",
      "max_pooling2d_4 (MaxPooling2 (None, 2, 2, 128)         0         \n",
      "_________________________________________________________________\n",
      "flatten (Flatten)            (None, 512)               0         \n",
      "_________________________________________________________________\n",
      "dense (Dense)                (None, 512)               262656    \n",
      "_________________________________________________________________\n",
      "dense_1 (Dense)              (None, 1)                 513       \n",
      "=================================================================\n",
      "Total params: 432,929\n",
      "Trainable params: 432,929\n",
      "Non-trainable params: 0\n",
      "_________________________________________________________________\n"
     ]
    }
   ],
   "source": [
    "cnn.summary()"
   ]
  },
  {
   "cell_type": "code",
   "execution_count": 11,
   "id": "9138dd60",
   "metadata": {
    "execution": {
     "iopub.execute_input": "2022-09-30T23:33:53.036570Z",
     "iopub.status.busy": "2022-09-30T23:33:53.036266Z",
     "iopub.status.idle": "2022-09-30T23:33:53.095666Z",
     "shell.execute_reply": "2022-09-30T23:33:53.094820Z"
    },
    "papermill": {
     "duration": 0.150499,
     "end_time": "2022-09-30T23:33:53.097805",
     "exception": false,
     "start_time": "2022-09-30T23:33:52.947306",
     "status": "completed"
    },
    "tags": []
   },
   "outputs": [
    {
     "name": "stdout",
     "output_type": "stream",
     "text": [
      "Saved model to disk\n"
     ]
    }
   ],
   "source": [
    "#Write model to drive\n",
    "cnn.save(\"cnn_model.h5\")\n",
    "print(\"Saved model to disk\")"
   ]
  },
  {
   "cell_type": "code",
   "execution_count": 12,
   "id": "4d5c5f6f",
   "metadata": {
    "execution": {
     "iopub.execute_input": "2022-09-30T23:33:53.272356Z",
     "iopub.status.busy": "2022-09-30T23:33:53.272064Z",
     "iopub.status.idle": "2022-09-30T23:33:53.425588Z",
     "shell.execute_reply": "2022-09-30T23:33:53.424734Z"
    },
    "papermill": {
     "duration": 0.243492,
     "end_time": "2022-09-30T23:33:53.428076",
     "exception": false,
     "start_time": "2022-09-30T23:33:53.184584",
     "status": "completed"
    },
    "tags": []
   },
   "outputs": [],
   "source": [
    "# load model\n",
    "model = load_model('cnn_model.h5')"
   ]
  },
  {
   "cell_type": "code",
   "execution_count": 13,
   "id": "ec5caa48",
   "metadata": {
    "execution": {
     "iopub.execute_input": "2022-09-30T23:33:53.602891Z",
     "iopub.status.busy": "2022-09-30T23:33:53.602587Z",
     "iopub.status.idle": "2022-09-30T23:33:54.405117Z",
     "shell.execute_reply": "2022-09-30T23:33:54.404382Z"
    },
    "papermill": {
     "duration": 0.893014,
     "end_time": "2022-09-30T23:33:54.407529",
     "exception": false,
     "start_time": "2022-09-30T23:33:53.514515",
     "status": "completed"
    },
    "tags": []
   },
   "outputs": [],
   "source": [
    "#Reshape test dataset\n",
    "\n",
    "\n",
    "#Prediction\n",
    "test_prediction = model.predict(x_test)\n",
    "\n",
    "#test_prediction\n",
    "#test_labels.size\n",
    "#x_train.shape\n",
    "\n",
    "#inverse le transform to get original label back\n",
    "\n",
    "#test_pre = le.inverse_transform(test_prediction)\n"
   ]
  },
  {
   "cell_type": "code",
   "execution_count": 14,
   "id": "bc020c89",
   "metadata": {
    "execution": {
     "iopub.execute_input": "2022-09-30T23:33:54.582232Z",
     "iopub.status.busy": "2022-09-30T23:33:54.581168Z",
     "iopub.status.idle": "2022-09-30T23:33:54.586754Z",
     "shell.execute_reply": "2022-09-30T23:33:54.586199Z"
    },
    "papermill": {
     "duration": 0.094748,
     "end_time": "2022-09-30T23:33:54.588692",
     "exception": false,
     "start_time": "2022-09-30T23:33:54.493944",
     "status": "completed"
    },
    "tags": []
   },
   "outputs": [],
   "source": [
    "test_pre = []\n",
    "for i in test_prediction:\n",
    "    if(i >= 0.5):\n",
    "        test_pre.append(1)\n",
    "    else:\n",
    "        test_pre.append(0)\n",
    "#test_pre        "
   ]
  },
  {
   "cell_type": "code",
   "execution_count": 15,
   "id": "c4da84a6",
   "metadata": {
    "execution": {
     "iopub.execute_input": "2022-09-30T23:33:54.763024Z",
     "iopub.status.busy": "2022-09-30T23:33:54.762411Z",
     "iopub.status.idle": "2022-09-30T23:33:54.771463Z",
     "shell.execute_reply": "2022-09-30T23:33:54.770631Z"
    },
    "papermill": {
     "duration": 0.099375,
     "end_time": "2022-09-30T23:33:54.773631",
     "exception": false,
     "start_time": "2022-09-30T23:33:54.674256",
     "status": "completed"
    },
    "tags": []
   },
   "outputs": [
    {
     "data": {
      "text/plain": [
       "array(['Uninfected', 'Uninfected', 'Uninfected', 'Uninfected',\n",
       "       'Uninfected', 'Uninfected', 'Uninfected', 'Uninfected',\n",
       "       'Uninfected', 'Uninfected', 'Uninfected', 'Uninfected',\n",
       "       'Uninfected', 'Uninfected', 'Uninfected', 'Uninfected',\n",
       "       'Uninfected', 'Uninfected', 'Uninfected', 'Uninfected',\n",
       "       'Uninfected', 'Uninfected', 'Uninfected', 'Uninfected',\n",
       "       'Uninfected', 'Uninfected', 'Uninfected', 'Uninfected',\n",
       "       'Uninfected', 'Uninfected', 'Uninfected', 'Uninfected',\n",
       "       'Uninfected', 'Uninfected', 'Uninfected', 'Uninfected',\n",
       "       'Uninfected', 'Uninfected', 'Uninfected', 'Uninfected',\n",
       "       'Uninfected', 'Uninfected', 'Uninfected', 'Parasite', 'Parasite',\n",
       "       'Uninfected', 'Parasite', 'Uninfected', 'Parasite', 'Parasite',\n",
       "       'Parasite', 'Parasite', 'Parasite', 'Uninfected', 'Parasite',\n",
       "       'Uninfected', 'Parasite', 'Parasite', 'Parasite', 'Uninfected',\n",
       "       'Uninfected', 'Parasite', 'Parasite', 'Parasite', 'Parasite',\n",
       "       'Parasite', 'Parasite', 'Parasite', 'Uninfected', 'Uninfected',\n",
       "       'Uninfected', 'Parasite', 'Parasite', 'Parasite', 'Uninfected',\n",
       "       'Parasite', 'Parasite', 'Parasite', 'Uninfected', 'Parasite',\n",
       "       'Uninfected', 'Parasite', 'Parasite', 'Parasite', 'Parasite',\n",
       "       'Parasite', 'Parasite', 'Parasite', 'Uninfected', 'Uninfected',\n",
       "       'Parasite', 'Parasite', 'Parasite', 'Parasite', 'Uninfected',\n",
       "       'Parasite', 'Parasite', 'Parasite', 'Uninfected', 'Parasite',\n",
       "       'Parasite', 'Parasite', 'Parasite', 'Parasite', 'Parasite',\n",
       "       'Uninfected', 'Uninfected', 'Parasite', 'Parasite', 'Parasite',\n",
       "       'Uninfected', 'Parasite', 'Parasite', 'Parasite', 'Parasite',\n",
       "       'Uninfected', 'Uninfected', 'Parasite', 'Parasite', 'Parasite',\n",
       "       'Parasite', 'Parasite', 'Parasite', 'Parasite', 'Parasite',\n",
       "       'Parasite', 'Parasite', 'Parasite', 'Parasite', 'Parasite',\n",
       "       'Parasite', 'Parasite', 'Uninfected', 'Parasite'], dtype='<U10')"
      ]
     },
     "execution_count": 15,
     "metadata": {},
     "output_type": "execute_result"
    }
   ],
   "source": [
    "test = le.inverse_transform(test_pre)\n",
    "test"
   ]
  },
  {
   "cell_type": "code",
   "execution_count": 16,
   "id": "80fb8ae6",
   "metadata": {
    "execution": {
     "iopub.execute_input": "2022-09-30T23:33:54.949776Z",
     "iopub.status.busy": "2022-09-30T23:33:54.949200Z",
     "iopub.status.idle": "2022-09-30T23:33:55.846826Z",
     "shell.execute_reply": "2022-09-30T23:33:55.845611Z"
    },
    "papermill": {
     "duration": 0.987992,
     "end_time": "2022-09-30T23:33:55.848883",
     "exception": false,
     "start_time": "2022-09-30T23:33:54.860891",
     "status": "completed"
    },
    "tags": []
   },
   "outputs": [
    {
     "name": "stdout",
     "output_type": "stream",
     "text": [
      "5/5 [==============================] - 1s 114ms/step - loss: 0.4203 - accuracy: 0.8358\n",
      "Accuracy:  [0.42032378911972046, 0.8358209133148193]\n"
     ]
    }
   ],
   "source": [
    "accuracy = model.evaluate(x_test,y_test)\n",
    "print(\"Accuracy: \",accuracy)\n",
    "#Accuracy:  [0.12909041345119476, 0.9477611780166626]"
   ]
  },
  {
   "cell_type": "code",
   "execution_count": 17,
   "id": "e24d361e",
   "metadata": {
    "execution": {
     "iopub.execute_input": "2022-09-30T23:33:56.030958Z",
     "iopub.status.busy": "2022-09-30T23:33:56.030342Z",
     "iopub.status.idle": "2022-09-30T23:33:56.098334Z",
     "shell.execute_reply": "2022-09-30T23:33:56.097755Z"
    },
    "papermill": {
     "duration": 0.161374,
     "end_time": "2022-09-30T23:33:56.100856",
     "exception": false,
     "start_time": "2022-09-30T23:33:55.939482",
     "status": "completed"
    },
    "tags": []
   },
   "outputs": [
    {
     "name": "stdout",
     "output_type": "stream",
     "text": [
      "Accuracy =  0.835820895522388\n"
     ]
    }
   ],
   "source": [
    "#print overall accuracy\n",
    "\n",
    "from sklearn import metrics\n",
    "print(\"Accuracy = \",metrics.accuracy_score(test_labels,test))\n",
    "#Accuracy =  0.9477611940298507"
   ]
  },
  {
   "cell_type": "code",
   "execution_count": 18,
   "id": "e8a6160f",
   "metadata": {
    "execution": {
     "iopub.execute_input": "2022-09-30T23:33:56.282001Z",
     "iopub.status.busy": "2022-09-30T23:33:56.281338Z",
     "iopub.status.idle": "2022-09-30T23:33:56.616449Z",
     "shell.execute_reply": "2022-09-30T23:33:56.615485Z"
    },
    "papermill": {
     "duration": 0.427496,
     "end_time": "2022-09-30T23:33:56.619381",
     "exception": false,
     "start_time": "2022-09-30T23:33:56.191885",
     "status": "completed"
    },
    "tags": []
   },
   "outputs": [
    {
     "name": "stdout",
     "output_type": "stream",
     "text": [
      "The prediction for this image is :  ['Parasite']\n",
      "The actual label for this image is :  Parasite\n"
     ]
    },
    {
     "data": {
      "image/png": "[encoded data removed]",
      "text/plain": [
       "<Figure size 432x288 with 1 Axes>"
      ]
     },
     "metadata": {
      "needs_background": "light"
     },
     "output_type": "display_data"
    }
   ],
   "source": [
    "import random\n",
    "n = random.randint(0,x_test.shape[0]-1)\n",
    "img = x_test[n]\n",
    "plt.imshow(img);\n",
    "\n",
    "#predict\n",
    "\n",
    "input_img = np.expand_dims(img,axis = 0)\n",
    "# img_new = np.reshape(img,(input_img.shape[0],-1))\n",
    "img_prediction = model.predict(input_img)\n",
    "if(img_prediction >= 0.5):\n",
    "    img_prediction = 1\n",
    "else:\n",
    "    img_prediction = 0\n",
    "img_prediction = le.inverse_transform([img_prediction])\n",
    "print(\"The prediction for this image is : \", img_prediction)\n",
    "print(\"The actual label for this image is : \", test_labels[n])"
   ]
  },
  {
   "cell_type": "code",
   "execution_count": 19,
   "id": "4dbbccfc",
   "metadata": {
    "execution": {
     "iopub.execute_input": "2022-09-30T23:33:56.802356Z",
     "iopub.status.busy": "2022-09-30T23:33:56.802077Z",
     "iopub.status.idle": "2022-09-30T23:33:57.215614Z",
     "shell.execute_reply": "2022-09-30T23:33:57.214500Z"
    },
    "papermill": {
     "duration": 0.508015,
     "end_time": "2022-09-30T23:33:57.217604",
     "exception": false,
     "start_time": "2022-09-30T23:33:56.709589",
     "status": "completed"
    },
    "tags": []
   },
   "outputs": [
    {
     "data": {
      "image/png": "[encoded data removed]",
      "text/plain": [
       "<Figure size 432x288 with 1 Axes>"
      ]
     },
     "metadata": {
      "needs_background": "light"
     },
     "output_type": "display_data"
    }
   ],
   "source": [
    "import cv2\n",
    "import numpy as np\n",
    "from matplotlib import pyplot as plt\n",
    "\n",
    "img = cv2.imread('../input/malaria-detection-dataset/Dataset/Test/Parasite/C39P4thinF_original_IMG_20150622_105803_cell_90.png',0)\n",
    "\n",
    "# Menerapkan Gaussian filtering sebelum Otsu’s thresholding\n",
    "blur = cv2.GaussianBlur(img,(5,5),0)\n",
    "\n",
    "# Otsu\n",
    "ret3,th3 = cv2.threshold(blur,50,255,cv2.THRESH_BINARY+cv2.THRESH_OTSU)\n",
    "\n",
    "# Plotting\n",
    "plt.imshow(th3,'gray')\n",
    "plt.show()"
   ]
  }
 ],
 "metadata": {
  "kernelspec": {
   "display_name": "Python 3",
   "language": "python",
   "name": "python3"
  },
  "language_info": {
   "codemirror_mode": {
    "name": "ipython",
    "version": 3
   },
   "file_extension": ".py",
   "mimetype": "text/x-python",
   "name": "python",
   "nbconvert_exporter": "python",
   "pygments_lexer": "ipython3",
   "version": "3.7.12"
  },
  "papermill": {
   "default_parameters": {},
   "duration": 129.719127,
   "end_time": "2022-09-30T23:34:00.193134",
   "environment_variables": {},
   "exception": null,
   "input_path": "__notebook__.ipynb",
   "output_path": "__notebook__.ipynb",
   "parameters": {},
   "start_time": "2022-09-30T23:31:50.474007",
   "version": "2.3.4"
  }
 },
 "nbformat": 4,
 "nbformat_minor": 5
}
