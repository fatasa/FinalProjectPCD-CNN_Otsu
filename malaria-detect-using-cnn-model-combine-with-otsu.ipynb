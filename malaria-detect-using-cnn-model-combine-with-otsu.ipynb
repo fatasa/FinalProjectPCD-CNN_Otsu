{
 "cells": [
  {
   "cell_type": "code",
   "execution_count": 1,
   "id": "e4d6f26e",
   "metadata": {
    "_cell_guid": "b1076dfc-b9ad-4769-8c92-a6c4dae69d19",
    "_uuid": "8f2839f25d086af736a60e9eeb907d3b93b6e0e5",
    "execution": {
     "iopub.execute_input": "2022-10-01T11:22:51.440008Z",
     "iopub.status.busy": "2022-10-01T11:22:51.438819Z",
     "iopub.status.idle": "2022-10-01T11:23:00.226109Z",
     "shell.execute_reply": "2022-10-01T11:23:00.225297Z"
    },
    "papermill": {
     "duration": 8.812599,
     "end_time": "2022-10-01T11:23:00.228667",
     "exception": false,
     "start_time": "2022-10-01T11:22:51.416068",
     "status": "completed"
    },
    "tags": []
   },
   "outputs": [],
   "source": [
    "import numpy as np # linear algebra\n",
    "import pandas as pd # data processing, CSV file I/O (e.g. pd.read_csv)\n",
    "import os\n",
    "import glob\n",
    "import cv2\n",
    "import seaborn as sns\n",
    "from skimage.filters import sobel\n",
    "import matplotlib.pyplot as plt\n",
    "\n",
    "import tensorflow as tf\n",
    "from tensorflow.keras import layers,models\n",
    "from keras.models import model_from_json\n",
    "from keras.models import load_model\n",
    "\n",
    "# This Python 3 environment comes with many helpful analytics libraries installed\n",
    "# It is defined by the kaggle/python Docker image: https://github.com/kaggle/docker-python\n",
    "# For example, here's several helpful packages to load\n",
    "\n",
    "# import numpy as np # linear algebra\n",
    "# import pandas as pd # data processing, CSV file I/O (e.g. pd.read_csv)\n",
    "\n",
    "# Input data files are available in the read-only \"../input/\" directory\n",
    "# For example, running this (by clicking run or pressing Shift+Enter) will list all files under the input directory\n",
    "\n",
    "# import os\n",
    "# for dirname, _, filenames in os.walk('/kaggle/input'):\n",
    "#     for filename in filenames:\n",
    "#         print(os.path.join(dirname, filename))\n",
    "\n",
    "# You can write up to 20GB to the current directory (/kaggle/working/) that gets preserved as output when you create a version using \"Save & Run All\" \n",
    "# You can also write temporary files to /kaggle/temp/, but they won't be saved outside of the current session"
   ]
  },
  {
   "cell_type": "code",
   "execution_count": 2,
   "id": "9cb75544",
   "metadata": {
    "execution": {
     "iopub.execute_input": "2022-10-01T11:23:00.275059Z",
     "iopub.status.busy": "2022-10-01T11:23:00.274187Z",
     "iopub.status.idle": "2022-10-01T11:23:00.278552Z",
     "shell.execute_reply": "2022-10-01T11:23:00.277705Z"
    },
    "papermill": {
     "duration": 0.027686,
     "end_time": "2022-10-01T11:23:00.280827",
     "exception": false,
     "start_time": "2022-10-01T11:23:00.253141",
     "status": "completed"
    },
    "tags": []
   },
   "outputs": [],
   "source": [
    "#resizing image\n",
    "size = 128"
   ]
  },
  {
   "cell_type": "code",
   "execution_count": 3,
   "id": "4d4eabb2",
   "metadata": {
    "execution": {
     "iopub.execute_input": "2022-10-01T11:23:00.321084Z",
     "iopub.status.busy": "2022-10-01T11:23:00.320769Z",
     "iopub.status.idle": "2022-10-01T11:23:03.149190Z",
     "shell.execute_reply": "2022-10-01T11:23:03.148155Z"
    },
    "papermill": {
     "duration": 2.851306,
     "end_time": "2022-10-01T11:23:03.151682",
     "exception": false,
     "start_time": "2022-10-01T11:23:00.300376",
     "status": "completed"
    },
    "tags": []
   },
   "outputs": [],
   "source": [
    "#Capture images and labels into array\n",
    "#Start by creating empty lists\n",
    "\n",
    "train_images = []\n",
    "train_labels = []\n",
    "\n",
    "# for directory_path in glob.glob(\"/kaggle/input/malaria-detection-dataset/Dataset/Train/*\"):\n",
    "#     label = directory_path.split(\"/\")[-1]\n",
    "#     #print(label)\n",
    "#     for img_path in glob.glob(os.path.join(directory_path,\"*.jpg\")):\n",
    "#         print(img_path)\n",
    "\n",
    "\n",
    "for directory_path, _, filenames in os.walk('/kaggle/input/malaria-detection-dataset/Dataset/Train/'):\n",
    "    label = directory_path.split(\"/\")[-1]\n",
    "    #print(label)\n",
    "    for filename in filenames:\n",
    "        img_path = os.path.join(directory_path, filename)\n",
    "        #print(img_path)\n",
    "        \n",
    "        img = cv2.imread(img_path,cv2.IMREAD_COLOR)\n",
    "        img = cv2.resize(img,(size,size))\n",
    "        #img = cv2.cvtColor(img,cv2.COLOR_RGB2BGR)\n",
    "        train_images.append(img)\n",
    "        train_labels.append(label)\n",
    "\n",
    "train_images = np.array(train_images)\n",
    "train_labels = np.array(train_labels)"
   ]
  },
  {
   "cell_type": "code",
   "execution_count": 4,
   "id": "95f55838",
   "metadata": {
    "execution": {
     "iopub.execute_input": "2022-10-01T11:23:03.194426Z",
     "iopub.status.busy": "2022-10-01T11:23:03.193349Z",
     "iopub.status.idle": "2022-10-01T11:23:04.027491Z",
     "shell.execute_reply": "2022-10-01T11:23:04.026450Z"
    },
    "papermill": {
     "duration": 0.85895,
     "end_time": "2022-10-01T11:23:04.029963",
     "exception": false,
     "start_time": "2022-10-01T11:23:03.171013",
     "status": "completed"
    },
    "tags": []
   },
   "outputs": [],
   "source": [
    "#Do the same for test images\n",
    "\n",
    "test_images = []\n",
    "test_labels = []\n",
    "\n",
    "for directory_path, _, filenames in os.walk('/kaggle/input/malaria-detection-dataset/Dataset/Test/'):\n",
    "    label = directory_path.split(\"/\")[-1]\n",
    "    #print(label)\n",
    "    for filename in filenames:\n",
    "        img_path = os.path.join(directory_path, filename)\n",
    "        #print(img_path)\n",
    "        \n",
    "        img = cv2.imread(img_path,cv2.IMREAD_COLOR)\n",
    "        img = cv2.resize(img,(size,size))\n",
    "        #img = cv2.cvtColor(img,cv2.COLOR_RGB2BGR)\n",
    "        test_images.append(img)\n",
    "        test_labels.append(label)\n",
    "\n",
    "test_images = np.array(test_images)\n",
    "test_labels = np.array(test_labels)"
   ]
  },
  {
   "cell_type": "code",
   "execution_count": 5,
   "id": "8c39597a",
   "metadata": {
    "execution": {
     "iopub.execute_input": "2022-10-01T11:23:04.070981Z",
     "iopub.status.busy": "2022-10-01T11:23:04.070666Z",
     "iopub.status.idle": "2022-10-01T11:23:04.218986Z",
     "shell.execute_reply": "2022-10-01T11:23:04.218200Z"
    },
    "papermill": {
     "duration": 0.171596,
     "end_time": "2022-10-01T11:23:04.221428",
     "exception": false,
     "start_time": "2022-10-01T11:23:04.049832",
     "status": "completed"
    },
    "tags": []
   },
   "outputs": [],
   "source": [
    "#Encode labels from text (folder_names) to integers\n",
    "from sklearn import preprocessing\n",
    "le = preprocessing.LabelEncoder()\n",
    "le.fit(test_labels)\n",
    "test_labels_encoded = le.transform(test_labels)\n",
    "le.fit(train_labels)\n",
    "train_labels_encoded = le.transform(train_labels)"
   ]
  },
  {
   "cell_type": "code",
   "execution_count": 6,
   "id": "5065a102",
   "metadata": {
    "execution": {
     "iopub.execute_input": "2022-10-01T11:23:04.269705Z",
     "iopub.status.busy": "2022-10-01T11:23:04.268843Z",
     "iopub.status.idle": "2022-10-01T11:23:04.371206Z",
     "shell.execute_reply": "2022-10-01T11:23:04.370210Z"
    },
    "papermill": {
     "duration": 0.127103,
     "end_time": "2022-10-01T11:23:04.374047",
     "exception": false,
     "start_time": "2022-10-01T11:23:04.246944",
     "status": "completed"
    },
    "tags": []
   },
   "outputs": [],
   "source": [
    "#Split data into test and train datasets\n",
    "\n",
    "x_train,y_train,x_test,y_test = train_images,train_labels_encoded,test_images,test_labels_encoded\n",
    "\n",
    "#Normalize pixel value between 0 and 1\n",
    "\n",
    "x_train,x_test = x_train/255.0, x_test/255.0"
   ]
  },
  {
   "cell_type": "code",
   "execution_count": 7,
   "id": "bcc27a83",
   "metadata": {
    "execution": {
     "iopub.execute_input": "2022-10-01T11:23:04.415406Z",
     "iopub.status.busy": "2022-10-01T11:23:04.415061Z",
     "iopub.status.idle": "2022-10-01T11:23:04.623597Z",
     "shell.execute_reply": "2022-10-01T11:23:04.622388Z"
    },
    "papermill": {
     "duration": 0.2321,
     "end_time": "2022-10-01T11:23:04.625869",
     "exception": false,
     "start_time": "2022-10-01T11:23:04.393769",
     "status": "completed"
    },
    "tags": []
   },
   "outputs": [
    {
     "name": "stderr",
     "output_type": "stream",
     "text": [
      "2022-10-01 11:23:04.473521: I tensorflow/core/common_runtime/process_util.cc:146] Creating new thread pool with default inter op setting: 2. Tune using inter_op_parallelism_threads for best performance.\n"
     ]
    }
   ],
   "source": [
    "#CNN model building\n",
    "\n",
    "cnn = models.Sequential([\n",
    "    #1st layer or Input layer\n",
    "    \n",
    "    layers.Conv2D(filters = 128, kernel_size = (3,3), activation = 'relu', input_shape = (128,128,3)),\n",
    "    #Pooling\n",
    "    layers.MaxPool2D((2,2)),\n",
    "   \n",
    "    \n",
    "    #2nd layer\n",
    "    \n",
    "    layers.Conv2D(filters = 32, kernel_size = (3,3), activation = 'relu'),\n",
    "    layers.MaxPool2D((2,2)),\n",
    "    \n",
    "    \n",
    "    \n",
    "    #3rd layer\n",
    "    \n",
    "    layers.Conv2D(filters = 64, kernel_size = (3,3), activation = 'relu'),\n",
    "    layers.MaxPool2D((2,2)),\n",
    "    \n",
    "    \n",
    "    #4th layer\n",
    "    \n",
    "    layers.Conv2D(filters = 64, kernel_size = (3,3), activation = 'relu'),\n",
    "    layers.MaxPool2D((2,2)),\n",
    "    \n",
    "    \n",
    "    #5th layer\n",
    "    \n",
    "    layers.Conv2D(filters = 128, kernel_size = (3,3), activation = 'relu'),\n",
    "    layers.MaxPool2D((2,2)),\n",
    "    \n",
    "    \n",
    "    \n",
    "    #Flattening\n",
    "    \n",
    "    layers.Flatten(),\n",
    "    \n",
    "    \n",
    "    #Last connection\n",
    "    \n",
    "    layers.Dense(512, activation = 'relu'),\n",
    "\n",
    "    \n",
    "    #For Binary Classification\n",
    "    \n",
    "    layers.Dense(1, activation = 'sigmoid')\n",
    "])"
   ]
  },
  {
   "cell_type": "code",
   "execution_count": 8,
   "id": "36688e73",
   "metadata": {
    "execution": {
     "iopub.execute_input": "2022-10-01T11:23:04.669033Z",
     "iopub.status.busy": "2022-10-01T11:23:04.668300Z",
     "iopub.status.idle": "2022-10-01T11:23:04.683389Z",
     "shell.execute_reply": "2022-10-01T11:23:04.682351Z"
    },
    "papermill": {
     "duration": 0.039525,
     "end_time": "2022-10-01T11:23:04.685798",
     "exception": false,
     "start_time": "2022-10-01T11:23:04.646273",
     "status": "completed"
    },
    "tags": []
   },
   "outputs": [],
   "source": [
    "#compiling\n",
    "\n",
    "cnn.compile(\n",
    "    optimizer = 'adam',\n",
    "    loss = 'binary_crossentropy',\n",
    "    metrics = ['accuracy']\n",
    ")"
   ]
  },
  {
   "cell_type": "code",
   "execution_count": 9,
   "id": "ff9f187b",
   "metadata": {
    "execution": {
     "iopub.execute_input": "2022-10-01T11:23:04.726844Z",
     "iopub.status.busy": "2022-10-01T11:23:04.726569Z",
     "iopub.status.idle": "2022-10-01T11:24:46.998949Z",
     "shell.execute_reply": "2022-10-01T11:24:46.998220Z"
    },
    "papermill": {
     "duration": 102.295587,
     "end_time": "2022-10-01T11:24:47.001375",
     "exception": false,
     "start_time": "2022-10-01T11:23:04.705788",
     "status": "completed"
    },
    "tags": []
   },
   "outputs": [
    {
     "name": "stderr",
     "output_type": "stream",
     "text": [
      "2022-10-01 11:23:04.941802: I tensorflow/compiler/mlir/mlir_graph_optimization_pass.cc:185] None of the MLIR Optimization Passes are enabled (registered 2)\n"
     ]
    },
    {
     "name": "stdout",
     "output_type": "stream",
     "text": [
      "Epoch 1/13\n",
      "13/13 [==============================] - 9s 627ms/step - loss: 0.7020 - accuracy: 0.5144\n",
      "Epoch 2/13\n",
      "13/13 [==============================] - 8s 582ms/step - loss: 0.6917 - accuracy: 0.5288\n",
      "Epoch 3/13\n",
      "13/13 [==============================] - 8s 590ms/step - loss: 0.6472 - accuracy: 0.5288\n",
      "Epoch 4/13\n",
      "13/13 [==============================] - 8s 587ms/step - loss: 0.4554 - accuracy: 0.8245\n",
      "Epoch 5/13\n",
      "13/13 [==============================] - 8s 598ms/step - loss: 0.2779 - accuracy: 0.9375\n",
      "Epoch 6/13\n",
      "13/13 [==============================] - 8s 587ms/step - loss: 0.5764 - accuracy: 0.8125\n",
      "Epoch 7/13\n",
      "13/13 [==============================] - 8s 593ms/step - loss: 0.2777 - accuracy: 0.8894\n",
      "Epoch 8/13\n",
      "13/13 [==============================] - 8s 592ms/step - loss: 0.1992 - accuracy: 0.9375\n",
      "Epoch 9/13\n",
      "13/13 [==============================] - 7s 575ms/step - loss: 0.2394 - accuracy: 0.9111\n",
      "Epoch 10/13\n",
      "13/13 [==============================] - 8s 625ms/step - loss: 0.1924 - accuracy: 0.9399\n",
      "Epoch 11/13\n",
      "13/13 [==============================] - 8s 584ms/step - loss: 0.1484 - accuracy: 0.9615\n",
      "Epoch 12/13\n",
      "13/13 [==============================] - 8s 587ms/step - loss: 0.1411 - accuracy: 0.9663\n",
      "Epoch 13/13\n",
      "13/13 [==============================] - 8s 584ms/step - loss: 0.1779 - accuracy: 0.9495\n"
     ]
    }
   ],
   "source": [
    "#Fitting model\n",
    "history = cnn.fit(x_train,\n",
    "        y_train,\n",
    "        epochs = 13)"
   ]
  },
  {
   "cell_type": "code",
   "execution_count": 10,
   "id": "66edf75b",
   "metadata": {
    "execution": {
     "iopub.execute_input": "2022-10-01T11:24:47.182163Z",
     "iopub.status.busy": "2022-10-01T11:24:47.181255Z",
     "iopub.status.idle": "2022-10-01T11:24:47.195278Z",
     "shell.execute_reply": "2022-10-01T11:24:47.193719Z"
    },
    "papermill": {
     "duration": 0.105526,
     "end_time": "2022-10-01T11:24:47.197743",
     "exception": false,
     "start_time": "2022-10-01T11:24:47.092217",
     "status": "completed"
    },
    "tags": []
   },
   "outputs": [
    {
     "name": "stdout",
     "output_type": "stream",
     "text": [
      "Model: \"sequential\"\n",
      "_________________________________________________________________\n",
      "Layer (type)                 Output Shape              Param #   \n",
      "=================================================================\n",
      "conv2d (Conv2D)              (None, 126, 126, 128)     3584      \n",
      "_________________________________________________________________\n",
      "max_pooling2d (MaxPooling2D) (None, 63, 63, 128)       0         \n",
      "_________________________________________________________________\n",
      "conv2d_1 (Conv2D)            (None, 61, 61, 32)        36896     \n",
      "_________________________________________________________________\n",
      "max_pooling2d_1 (MaxPooling2 (None, 30, 30, 32)        0         \n",
      "_________________________________________________________________\n",
      "conv2d_2 (Conv2D)            (None, 28, 28, 64)        18496     \n",
      "_________________________________________________________________\n",
      "max_pooling2d_2 (MaxPooling2 (None, 14, 14, 64)        0         \n",
      "_________________________________________________________________\n",
      "conv2d_3 (Conv2D)            (None, 12, 12, 64)        36928     \n",
      "_________________________________________________________________\n",
      "max_pooling2d_3 (MaxPooling2 (None, 6, 6, 64)          0         \n",
      "_________________________________________________________________\n",
      "conv2d_4 (Conv2D)            (None, 4, 4, 128)         73856     \n",
      "_________________________________________________________________\n",
      "max_pooling2d_4 (MaxPooling2 (None, 2, 2, 128)         0         \n",
      "_________________________________________________________________\n",
      "flatten (Flatten)            (None, 512)               0         \n",
      "_________________________________________________________________\n",
      "dense (Dense)                (None, 512)               262656    \n",
      "_________________________________________________________________\n",
      "dense_1 (Dense)              (None, 1)                 513       \n",
      "=================================================================\n",
      "Total params: 432,929\n",
      "Trainable params: 432,929\n",
      "Non-trainable params: 0\n",
      "_________________________________________________________________\n"
     ]
    }
   ],
   "source": [
    "cnn.summary()"
   ]
  },
  {
   "cell_type": "code",
   "execution_count": 11,
   "id": "4ab76b92",
   "metadata": {
    "execution": {
     "iopub.execute_input": "2022-10-01T11:24:47.379061Z",
     "iopub.status.busy": "2022-10-01T11:24:47.378778Z",
     "iopub.status.idle": "2022-10-01T11:24:47.438419Z",
     "shell.execute_reply": "2022-10-01T11:24:47.437071Z"
    },
    "papermill": {
     "duration": 0.152422,
     "end_time": "2022-10-01T11:24:47.440803",
     "exception": false,
     "start_time": "2022-10-01T11:24:47.288381",
     "status": "completed"
    },
    "tags": []
   },
   "outputs": [
    {
     "name": "stdout",
     "output_type": "stream",
     "text": [
      "Saved model to disk\n"
     ]
    }
   ],
   "source": [
    "#Write model to drive\n",
    "cnn.save(\"cnn_model.h5\")\n",
    "print(\"Saved model to disk\")"
   ]
  },
  {
   "cell_type": "code",
   "execution_count": 12,
   "id": "d8a6a91e",
   "metadata": {
    "execution": {
     "iopub.execute_input": "2022-10-01T11:24:47.616930Z",
     "iopub.status.busy": "2022-10-01T11:24:47.616631Z",
     "iopub.status.idle": "2022-10-01T11:24:47.772170Z",
     "shell.execute_reply": "2022-10-01T11:24:47.771286Z"
    },
    "papermill": {
     "duration": 0.245753,
     "end_time": "2022-10-01T11:24:47.774777",
     "exception": false,
     "start_time": "2022-10-01T11:24:47.529024",
     "status": "completed"
    },
    "tags": []
   },
   "outputs": [],
   "source": [
    "# load model\n",
    "model = load_model('cnn_model.h5')"
   ]
  },
  {
   "cell_type": "code",
   "execution_count": 13,
   "id": "c3a9e1f9",
   "metadata": {
    "execution": {
     "iopub.execute_input": "2022-10-01T11:24:47.951437Z",
     "iopub.status.busy": "2022-10-01T11:24:47.950966Z",
     "iopub.status.idle": "2022-10-01T11:24:49.332337Z",
     "shell.execute_reply": "2022-10-01T11:24:49.331479Z"
    },
    "papermill": {
     "duration": 1.473172,
     "end_time": "2022-10-01T11:24:49.334946",
     "exception": false,
     "start_time": "2022-10-01T11:24:47.861774",
     "status": "completed"
    },
    "tags": []
   },
   "outputs": [],
   "source": [
    "#Reshape test dataset\n",
    "\n",
    "#Prediction\n",
    "test_prediction = model.predict(x_test)\n",
    "\n",
    "#test_prediction\n",
    "#test_labels.size\n",
    "#x_train.shape\n",
    "\n",
    "#inverse le transform to get original label back\n",
    "\n",
    "#test_pre = le.inverse_transform(test_prediction)"
   ]
  },
  {
   "cell_type": "code",
   "execution_count": 14,
   "id": "26a5138f",
   "metadata": {
    "execution": {
     "iopub.execute_input": "2022-10-01T11:24:49.524505Z",
     "iopub.status.busy": "2022-10-01T11:24:49.523357Z",
     "iopub.status.idle": "2022-10-01T11:24:49.529437Z",
     "shell.execute_reply": "2022-10-01T11:24:49.528578Z"
    },
    "papermill": {
     "duration": 0.102457,
     "end_time": "2022-10-01T11:24:49.531842",
     "exception": false,
     "start_time": "2022-10-01T11:24:49.429385",
     "status": "completed"
    },
    "tags": []
   },
   "outputs": [],
   "source": [
    "test_pre = []\n",
    "for i in test_prediction:\n",
    "    if(i >= 0.5):\n",
    "        test_pre.append(1)\n",
    "    else:\n",
    "        test_pre.append(0)\n",
    "#test_pre        "
   ]
  },
  {
   "cell_type": "code",
   "execution_count": 15,
   "id": "3a3de045",
   "metadata": {
    "execution": {
     "iopub.execute_input": "2022-10-01T11:24:49.706505Z",
     "iopub.status.busy": "2022-10-01T11:24:49.705660Z",
     "iopub.status.idle": "2022-10-01T11:24:49.714824Z",
     "shell.execute_reply": "2022-10-01T11:24:49.714023Z"
    },
    "papermill": {
     "duration": 0.098586,
     "end_time": "2022-10-01T11:24:49.717156",
     "exception": false,
     "start_time": "2022-10-01T11:24:49.618570",
     "status": "completed"
    },
    "tags": []
   },
   "outputs": [
    {
     "data": {
      "text/plain": [
       "array(['Uninfected', 'Uninfected', 'Uninfected', 'Uninfected',\n",
       "       'Uninfected', 'Uninfected', 'Uninfected', 'Uninfected',\n",
       "       'Uninfected', 'Uninfected', 'Uninfected', 'Uninfected',\n",
       "       'Uninfected', 'Uninfected', 'Uninfected', 'Uninfected',\n",
       "       'Uninfected', 'Uninfected', 'Uninfected', 'Uninfected',\n",
       "       'Uninfected', 'Uninfected', 'Uninfected', 'Uninfected',\n",
       "       'Uninfected', 'Uninfected', 'Uninfected', 'Uninfected',\n",
       "       'Uninfected', 'Uninfected', 'Uninfected', 'Uninfected',\n",
       "       'Uninfected', 'Uninfected', 'Uninfected', 'Uninfected',\n",
       "       'Uninfected', 'Uninfected', 'Uninfected', 'Uninfected',\n",
       "       'Uninfected', 'Uninfected', 'Uninfected', 'Parasite', 'Parasite',\n",
       "       'Uninfected', 'Parasite', 'Parasite', 'Parasite', 'Parasite',\n",
       "       'Parasite', 'Parasite', 'Parasite', 'Uninfected', 'Parasite',\n",
       "       'Uninfected', 'Parasite', 'Parasite', 'Parasite', 'Uninfected',\n",
       "       'Parasite', 'Parasite', 'Parasite', 'Parasite', 'Parasite',\n",
       "       'Parasite', 'Parasite', 'Parasite', 'Parasite', 'Parasite',\n",
       "       'Uninfected', 'Parasite', 'Parasite', 'Parasite', 'Uninfected',\n",
       "       'Parasite', 'Parasite', 'Parasite', 'Uninfected', 'Parasite',\n",
       "       'Parasite', 'Parasite', 'Parasite', 'Parasite', 'Parasite',\n",
       "       'Parasite', 'Parasite', 'Parasite', 'Uninfected', 'Uninfected',\n",
       "       'Parasite', 'Parasite', 'Parasite', 'Parasite', 'Uninfected',\n",
       "       'Parasite', 'Parasite', 'Parasite', 'Uninfected', 'Parasite',\n",
       "       'Parasite', 'Parasite', 'Parasite', 'Parasite', 'Parasite',\n",
       "       'Uninfected', 'Parasite', 'Parasite', 'Parasite', 'Parasite',\n",
       "       'Uninfected', 'Parasite', 'Parasite', 'Parasite', 'Parasite',\n",
       "       'Parasite', 'Uninfected', 'Parasite', 'Parasite', 'Parasite',\n",
       "       'Parasite', 'Parasite', 'Parasite', 'Parasite', 'Parasite',\n",
       "       'Parasite', 'Parasite', 'Parasite', 'Parasite', 'Parasite',\n",
       "       'Parasite', 'Parasite', 'Uninfected', 'Parasite'], dtype='<U10')"
      ]
     },
     "execution_count": 15,
     "metadata": {},
     "output_type": "execute_result"
    }
   ],
   "source": [
    "test = le.inverse_transform(test_pre)\n",
    "test"
   ]
  },
  {
   "cell_type": "code",
   "execution_count": 16,
   "id": "494e8fa9",
   "metadata": {
    "execution": {
     "iopub.execute_input": "2022-10-01T11:24:49.897848Z",
     "iopub.status.busy": "2022-10-01T11:24:49.897041Z",
     "iopub.status.idle": "2022-10-01T11:24:50.821747Z",
     "shell.execute_reply": "2022-10-01T11:24:50.820648Z"
    },
    "papermill": {
     "duration": 1.01966,
     "end_time": "2022-10-01T11:24:50.824282",
     "exception": false,
     "start_time": "2022-10-01T11:24:49.804622",
     "status": "completed"
    },
    "tags": []
   },
   "outputs": [
    {
     "name": "stdout",
     "output_type": "stream",
     "text": [
      "5/5 [==============================] - 1s 118ms/step - loss: 0.2523 - accuracy: 0.8881\n",
      "Accuracy:  [0.25229790806770325, 0.888059675693512]\n"
     ]
    }
   ],
   "source": [
    "accuracy = model.evaluate(x_test,y_test)\n",
    "print(\"Accuracy: \",accuracy)\n",
    "#Accuracy:  [0.12909041345119476, 0.9477611780166626]"
   ]
  },
  {
   "cell_type": "code",
   "execution_count": 17,
   "id": "b2dc57e6",
   "metadata": {
    "execution": {
     "iopub.execute_input": "2022-10-01T11:24:51.017424Z",
     "iopub.status.busy": "2022-10-01T11:24:51.017132Z",
     "iopub.status.idle": "2022-10-01T11:24:51.072730Z",
     "shell.execute_reply": "2022-10-01T11:24:51.071895Z"
    },
    "papermill": {
     "duration": 0.155462,
     "end_time": "2022-10-01T11:24:51.074910",
     "exception": false,
     "start_time": "2022-10-01T11:24:50.919448",
     "status": "completed"
    },
    "tags": []
   },
   "outputs": [
    {
     "name": "stdout",
     "output_type": "stream",
     "text": [
      "Accuracy =  0.8880597014925373\n"
     ]
    }
   ],
   "source": [
    "#print overall accuracy\n",
    "\n",
    "from sklearn import metrics\n",
    "print(\"Accuracy = \",metrics.accuracy_score(test_labels,test))\n",
    "#Accuracy =  0.9477611940298507"
   ]
  },
  {
   "cell_type": "code",
   "execution_count": 18,
   "id": "5ebd7262",
   "metadata": {
    "execution": {
     "iopub.execute_input": "2022-10-01T11:24:51.281701Z",
     "iopub.status.busy": "2022-10-01T11:24:51.280821Z",
     "iopub.status.idle": "2022-10-01T11:24:51.618636Z",
     "shell.execute_reply": "2022-10-01T11:24:51.617701Z"
    },
    "papermill": {
     "duration": 0.446786,
     "end_time": "2022-10-01T11:24:51.620639",
     "exception": false,
     "start_time": "2022-10-01T11:24:51.173853",
     "status": "completed"
    },
    "tags": []
   },
   "outputs": [
    {
     "name": "stdout",
     "output_type": "stream",
     "text": [
      "Saved img to disk\n"
     ]
    },
    {
     "data": {
      "image/png": "[encoded data removed]",
      "text/plain": [
       "<Figure size 432x288 with 1 Axes>"
      ]
     },
     "metadata": {
      "needs_background": "light"
     },
     "output_type": "display_data"
    }
   ],
   "source": [
    "import random\n",
    "n = random.randint(0,x_test.shape[0]-1)\n",
    "img = x_test[n]\n",
    "plt.imshow(img)\n",
    "plt.savefig('plasmadarah.png')\n",
    "print(\"Saved img to disk\")"
   ]
  },
  {
   "cell_type": "code",
   "execution_count": 19,
   "id": "4f17eb7c",
   "metadata": {
    "execution": {
     "iopub.execute_input": "2022-10-01T11:24:51.803578Z",
     "iopub.status.busy": "2022-10-01T11:24:51.803255Z",
     "iopub.status.idle": "2022-10-01T11:24:52.081165Z",
     "shell.execute_reply": "2022-10-01T11:24:52.080226Z"
    },
    "papermill": {
     "duration": 0.371617,
     "end_time": "2022-10-01T11:24:52.083353",
     "exception": false,
     "start_time": "2022-10-01T11:24:51.711736",
     "status": "completed"
    },
    "tags": []
   },
   "outputs": [
    {
     "name": "stdout",
     "output_type": "stream",
     "text": [
      "The prediction for this image is :  ['Parasite']\n",
      "The actual label for this image is :  Parasite\n"
     ]
    }
   ],
   "source": [
    "#predict\n",
    "\n",
    "input_img = np.expand_dims(img,axis = 0)\n",
    "# img_new = np.reshape(img,(input_img.shape[0],-1))\n",
    "img_prediction = model.predict(input_img)\n",
    "if(img_prediction >= 0.5):\n",
    "    img_prediction = 1\n",
    "else:\n",
    "    img_prediction = 0\n",
    "img_prediction = le.inverse_transform([img_prediction])\n",
    "print(\"The prediction for this image is : \", img_prediction)\n",
    "print(\"The actual label for this image is : \", test_labels[n])"
   ]
  },
  {
   "cell_type": "code",
   "execution_count": 20,
   "id": "5853ead9",
   "metadata": {
    "execution": {
     "iopub.execute_input": "2022-10-01T11:24:52.278516Z",
     "iopub.status.busy": "2022-10-01T11:24:52.278206Z",
     "iopub.status.idle": "2022-10-01T11:24:52.510382Z",
     "shell.execute_reply": "2022-10-01T11:24:52.509359Z"
    },
    "papermill": {
     "duration": 0.331076,
     "end_time": "2022-10-01T11:24:52.512686",
     "exception": false,
     "start_time": "2022-10-01T11:24:52.181610",
     "status": "completed"
    },
    "tags": []
   },
   "outputs": [
    {
     "data": {
      "image/png": "[encoded data removed]",
      "text/plain": [
       "<Figure size 432x288 with 1 Axes>"
      ]
     },
     "metadata": {
      "needs_background": "light"
     },
     "output_type": "display_data"
    }
   ],
   "source": [
    "img = cv2.imread('./plasmadarah.png',0)\n",
    "\n",
    "# Otsu\n",
    "ret3,th3 = cv2.threshold(img,50,255,cv2.THRESH_BINARY+cv2.THRESH_OTSU)\n",
    "\n",
    "# Plotting\n",
    "plt.imshow(th3,'gray')\n",
    "plt.show()"
   ]
  }
 ],
 "metadata": {
  "kernelspec": {
   "display_name": "Python 3",
   "language": "python",
   "name": "python3"
  },
  "language_info": {
   "codemirror_mode": {
    "name": "ipython",
    "version": 3
   },
   "file_extension": ".py",
   "mimetype": "text/x-python",
   "name": "python",
   "nbconvert_exporter": "python",
   "pygments_lexer": "ipython3",
   "version": "3.7.12"
  },
  "papermill": {
   "default_parameters": {},
   "duration": 133.82557,
   "end_time": "2022-10-01T11:24:55.359407",
   "environment_variables": {},
   "exception": null,
   "input_path": "__notebook__.ipynb",
   "output_path": "__notebook__.ipynb",
   "parameters": {},
   "start_time": "2022-10-01T11:22:41.533837",
   "version": "2.3.4"
  }
 },
 "nbformat": 4,
 "nbformat_minor": 5
}
